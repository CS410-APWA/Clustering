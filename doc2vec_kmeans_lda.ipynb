{
 "cells": [
  {
   "cell_type": "code",
   "execution_count": 1,
   "metadata": {},
   "outputs": [],
   "source": [
    "import chardet\n",
    "import csv\n",
    "import gensim\n",
    "import logging\n",
    "import nltk\n",
    "import os\n",
    "import string\n",
    "\n",
    "%matplotlib notebook\n",
    "import matplotlib.pyplot as plt\n",
    "import numpy as np\n",
    "import pandas as pd\n",
    "\n",
    "from itertools import cycle\n",
    "from sklearn.cluster import AffinityPropagation\n",
    "from sklearn.cluster import KMeans\n",
    "from sklearn.decomposition import PCA\n",
    "from sklearn.preprocessing import StandardScaler\n",
    "\n",
    "from gensim.models import Doc2Vec\n",
    "from sklearn.externals import joblib\n",
    "from sklearn.feature_extraction.text import TfidfVectorizer"
   ]
  },
  {
   "cell_type": "markdown",
   "metadata": {},
   "source": [
    "# Upload Essays "
   ]
  },
  {
   "cell_type": "code",
   "execution_count": 2,
   "metadata": {},
   "outputs": [],
   "source": [
    "essay_path = \"/Users/inesayara/Desktop/senior_seminar/essays/\""
   ]
  },
  {
   "cell_type": "code",
   "execution_count": 3,
   "metadata": {},
   "outputs": [],
   "source": [
    "files = os.listdir(essay_path)\n",
    "\n",
    "essays = {}\n",
    "for file in files:\n",
    "    # attempt to confidently guess encoding; otherwise, default to ISO-8859-1\n",
    "    encoding = \"ISO-8859-1\"\n",
    "    guess = chardet.detect(open(essay_path + file, \"rb\").read())\n",
    "    if (guess[\"confidence\"] >= 0.95):\n",
    "        encoding = guess[\"encoding\"]\n",
    "    \n",
    "    with open(essay_path + file, \"r\", encoding=encoding) as f:\n",
    "        essays[file] = f.read()"
   ]
  },
  {
   "cell_type": "markdown",
   "metadata": {},
   "source": [
    "# Tokenize + Preprocess"
   ]
  },
  {
   "cell_type": "code",
   "execution_count": 4,
   "metadata": {},
   "outputs": [],
   "source": [
    "tokenized_essays = {label: gensim.utils.simple_preprocess(corpus, deacc=True, min_len=2, max_len=20) for (label, corpus) in essays.items()}"
   ]
  },
  {
   "cell_type": "code",
   "execution_count": 5,
   "metadata": {},
   "outputs": [],
   "source": [
    "english_stopwords = nltk.corpus.stopwords.words('english')\n",
    "\n",
    "custom_stopwords = [\n",
    "        \"prison\",\n",
    "        \"jail\",\n",
    "        \"prisoner\",\n",
    "        \"also\",\n",
    "        \"said\",\n",
    "        \"would\",\n",
    "        \"could\",\n",
    "        \"should\",\n",
    "        \"first\",\n",
    "        \"like\",\n",
    "        \"get\",\n",
    "        \"going\",\n",
    "        \"thing\",\n",
    "        \"something\",\n",
    "        \"use\",\n",
    "        \"get\",\n",
    "        \"go\",\n",
    "        \"one\",\n",
    "        \"mr\",\n",
    "        \"many\",\n",
    "        \"much\",\n",
    "        \"see\",\n",
    "        \"take\",\n",
    "        \"another\",\n",
    "        \"aroud\",\n",
    "        \"away\",\n",
    "        \"back\",\n",
    "        \"even\",\n",
    "        \"every\",\n",
    "        \"guy\",\n",
    "        \"know\",\n",
    "        \"let\",\n",
    "        \"make\",\n",
    "        \"look\",\n",
    "        \"person\",\n",
    "        \"place\",\n",
    "        \"day\",\n",
    "        \"year\",\n",
    "        \"well\",\n",
    "        \"good\",\n",
    "        \"bad\",\n",
    "        \"with\",\n",
    "        \"without\",\n",
    "        \"may\",\n",
    "        \"new\",\n",
    "        \"two\",\n",
    "        \"want\",\n",
    "        \"people\",\n",
    "        \"within\",\n",
    "        \"upon\",\n",
    "        \"come\",\n",
    "        \"tilocblob\",\n",
    "        \"yyyyyy\",\n",
    "        \"way\",\n",
    "        \"around\",\n",
    "        \"high\",\n",
    "        \"inside\",\n",
    "        \"long\",\n",
    "        \"men\",\n",
    "        \"must\",\n",
    "        \"need\",\n",
    "        \"never\",\n",
    "        \"old\",\n",
    "        \"other\",\n",
    "        \"others\",\n",
    "        \"really\",\n",
    "        \"say\",\n",
    "        \"seem\",\n",
    "        \"still\",\n",
    "        \"try\",\n",
    "        \"become\",\n",
    "        \"allow\",\n",
    "        \"give\",\n",
    "        \"month\",\n",
    "        \"result\",\n",
    "        \"always\",\n",
    "        \"ask\",\n",
    "        \"begin\",\n",
    "        \"end\",\n",
    "        \"hour\",\n",
    "        \"man\",\n",
    "        \"woman\",\n",
    "        \"put\",\n",
    "        \"someone\",\n",
    "        \"start\",\n",
    "        \"next\",\n",
    "        \"act\",\n",
    "        \"create\",\n",
    "        \"yet\",\n",
    "        \"time\",\n",
    "        \"case\",\n",
    "        \"cell\",\n",
    "        \"work\",\n",
    "        \"call\",\n",
    "        \"world\",\n",
    "        \"tell\",\n",
    "        \"week\",\n",
    "        \"told\",\n",
    "        \"lot\",\n",
    "        \"change\",\n",
    "        \"self\",\n",
    "        \"since\",\n",
    "        \"life\",\n",
    "        \"u\"\n",
    "    ]\n"
   ]
  },
  {
   "cell_type": "code",
   "execution_count": 6,
   "metadata": {
    "scrolled": true
   },
   "outputs": [],
   "source": [
    "def get_wordnet_pos(word):\n",
    "    \"\"\"Map POS tag to first character lemmatize() accepts\"\"\"\n",
    "    tag = nltk.pos_tag([word])[0][1][0].upper()\n",
    "    tag_dict = {\"J\": nltk.corpus.wordnet.ADJ,\n",
    "                \"N\": nltk.corpus.wordnet.NOUN,\n",
    "                \"V\": nltk.corpus.wordnet.VERB,\n",
    "                \"R\": nltk.corpus.wordnet.ADV}\n",
    "\n",
    "    return tag_dict.get(tag, nltk.corpus.wordnet.NOUN)\n",
    "\n",
    "lemmatizer = nltk.stem.WordNetLemmatizer()\n",
    "tokenized_essays = {label: [lemmatizer.lemmatize(w, get_wordnet_pos(w)) for w in token_lst if (w not in string.punctuation and w not in english_stopwords and w not in custom_stopwords)] for (label, token_lst) in tokenized_essays.items()}"
   ]
  },
  {
   "cell_type": "code",
   "execution_count": 7,
   "metadata": {},
   "outputs": [],
   "source": [
    "tokenized_essays = {label: [w for w in token_lst if (w not in english_stopwords and w not in custom_stopwords)] for (label, token_lst) in tokenized_essays.items()}"
   ]
  },
  {
   "cell_type": "markdown",
   "metadata": {},
   "source": [
    "# Vectorize w/ doc2vec"
   ]
  },
  {
   "cell_type": "code",
   "execution_count": 8,
   "metadata": {},
   "outputs": [
    {
     "name": "stdout",
     "output_type": "stream",
     "text": [
      "Number of texts processed:  1574\n"
     ]
    }
   ],
   "source": [
    "LabeledSentence1 = gensim.models.doc2vec.TaggedDocument\n",
    "all_content_train = []\n",
    "j=0\n",
    "for essay in tokenized_essays.values():\n",
    "    all_content_train.append(LabeledSentence1(essay, [j]))\n",
    "    j+=1\n",
    "    \n",
    "print(\"Number of texts processed: \", j)"
   ]
  },
  {
   "cell_type": "code",
   "execution_count": 9,
   "metadata": {},
   "outputs": [],
   "source": [
    "#d2v_model = Doc2Vec(all_content_train, vector_size = 100, window = 10, min_count = 500, workers=7, dm = 1,alpha=0.025, min_alpha=0.001)\n",
    "d2v_model = Doc2Vec(all_content_train)\n",
    "\n",
    "#d2v_model.train(all_content_train, total_examples=d2v_model.corpus_count, epochs=10, start_alpha=0.002, end_alpha=-0.016)"
   ]
  },
  {
   "cell_type": "code",
   "execution_count": 10,
   "metadata": {},
   "outputs": [],
   "source": [
    "essay_vectors = d2v_model.docvecs.vectors_docs\n",
    "vectorized_df = pd.DataFrame(essay_vectors)\n",
    "index_ref = vectorized_df.index"
   ]
  },
  {
   "cell_type": "markdown",
   "metadata": {},
   "source": [
    "# Feature scaling through standardization"
   ]
  },
  {
   "cell_type": "code",
   "execution_count": 11,
   "metadata": {},
   "outputs": [],
   "source": [
    "stdsclr = StandardScaler()\n",
    "standardized_df = pd.DataFrame(stdsclr.fit_transform(vectorized_df.astype(float)), index=index_ref)"
   ]
  },
  {
   "cell_type": "markdown",
   "metadata": {},
   "source": [
    "# Principle component analysis"
   ]
  },
  {
   "cell_type": "code",
   "execution_count": 12,
   "metadata": {},
   "outputs": [],
   "source": [
    "pca = PCA(n_components=3)\n",
    "reduced_df = pd.DataFrame(pca.fit_transform(standardized_df), index=index_ref)"
   ]
  },
  {
   "cell_type": "markdown",
   "metadata": {},
   "source": [
    "# Guide for output to visualize effectiveness of vectors"
   ]
  },
  {
   "cell_type": "code",
   "execution_count": 13,
   "metadata": {},
   "outputs": [],
   "source": [
    "#reduced_df.to_csv('new1.csv', sep='\\t', index=False, header=False)\n",
    "#pd.DataFrame(index_ref).to_csv('index.csv', index=False, header=False)"
   ]
  },
  {
   "cell_type": "markdown",
   "metadata": {},
   "source": [
    "# Clustering w/ k-means "
   ]
  },
  {
   "cell_type": "code",
   "execution_count": 14,
   "metadata": {},
   "outputs": [
    {
     "name": "stdout",
     "output_type": "stream",
     "text": [
      "CPU times: user 296 ms, sys: 73.5 ms, total: 369 ms\n",
      "Wall time: 176 ms\n"
     ]
    },
    {
     "data": {
      "text/plain": [
       "KMeans(algorithm='auto', copy_x=True, init='k-means++', max_iter=100,\n",
       "    n_clusters=7, n_init=10, n_jobs=None, precompute_distances='auto',\n",
       "    random_state=None, tol=0.0001, verbose=0)"
      ]
     },
     "execution_count": 14,
     "metadata": {},
     "output_type": "execute_result"
    }
   ],
   "source": [
    "num_clusters = 7\n",
    "\n",
    "km = KMeans(n_clusters=num_clusters, init=\"k-means++\", max_iter=100)\n",
    "\n",
    "%time km.fit(reduced_df.values)"
   ]
  },
  {
   "cell_type": "markdown",
   "metadata": {},
   "source": [
    "# Essays per cluster / Theme(s) per cluster"
   ]
  },
  {
   "cell_type": "code",
   "execution_count": 15,
   "metadata": {},
   "outputs": [
    {
     "name": "stdout",
     "output_type": "stream",
     "text": [
      "3    508\n",
      "1    373\n",
      "0    315\n",
      "6    117\n",
      "5     99\n",
      "4     92\n",
      "2     70\n",
      "Name: cluster, dtype: int64\n"
     ]
    }
   ],
   "source": [
    "output = reduced_df\n",
    "output['cluster'] = km.labels_\n",
    "print(output['cluster'].value_counts())\n",
    "output['essay'] = tokenized_essays.values()\n",
    "output['title'] = tokenized_essays.keys()"
   ]
  },
  {
   "cell_type": "code",
   "execution_count": 16,
   "metadata": {},
   "outputs": [],
   "source": [
    "theme_index = {'Autobiographical, Paths to Prison': 'parent, damage, abuse, gang, alcohol, drug, neighborhood, hood, youth, pressure, fit, broken', \n",
    "                 'Family': 'family, abandonment, relation, visit, partner, mother, father, sibling, child, wife, husband, abuse, support', \n",
    "                 'Physical Conditions and Security': 'physical, condition, security, search, censorship, food, cold, hygiene, heat, misfunction, infestation, solitary, strip, search, fear, filth, violence, staff, abuse', \n",
    "                 'Prison Culture/Community/Society': 'violence, fear, staff, sexual, crime, outcasts, racial, cellmate, gay, LGBTQ, dehumanize, uniform, pecking, order, hierarchy, solid, dirty, skin, chomo',\n",
    "                 'Staff/prison Abuse of IP': 'abuse, sexual, torture, humiliation, racist, assault, antagonism, exacerbation, right, violation, food, hygiene, environment, legal, extraction, search, taunt',\n",
    "                 'Personal/Intern Change/Coping': 'survival, art, reading, writing, peace, faith, prayer, meditation, practice, community, activities, hobbies, cooking, remorse, motivation, education, discipline, coping, adjustment, responsibility, god, redemption, transformation',\n",
    "                 'Judicial Misconduct and Legal Remediation': 'judicial, incompetence, corruption, witness, evidence, excessive, political, jailhouse, lawyer, misconduct, unfair, pretender, plra, plea, grievance',\n",
    "                 'Political and Intellectual Labor among IP': 'activism, resistence, critique, race, class, change, policies, practices, write, organize, strike, solidarity',\n",
    "                 'Prison Industry/Prison as Business': 'labor, slave, condition, safety, health, profit, job, budget, tax, taxpayer, exploitation, corruption, mismanagement, nepotism',\n",
    "                 'Education, Re-entry, Other Programs': 'rehabilitation, entry, education, indifference, college, vocation',\n",
    "                 'Health Care': 'health, care, negligence, hostility, incompetence, indifference, death, injury, treatment, medication',\n",
    "                 'Social Alienation, Indifference, Hostility': 'public, misperception, identity, stigma'}"
   ]
  },
  {
   "cell_type": "code",
   "execution_count": 17,
   "metadata": {},
   "outputs": [],
   "source": [
    "import os\n",
    "from os import path\n",
    "import shutil\n",
    "\n",
    "src = \"/Users/inesayara/Desktop/senior_seminar/essays\"\n",
    "dst = \"/Users/inesayara/Desktop/clusters_1_0/cluster_\"\n",
    "\n",
    "#files = [i for i in os.listdir(src) if path.isfile(path.join(src, i))]\n",
    "#for f in files:\n",
    "#    shutil.copy(path.join(src, f), dst)"
   ]
  },
  {
   "cell_type": "code",
   "execution_count": 18,
   "metadata": {},
   "outputs": [
    {
     "name": "stdout",
     "output_type": "stream",
     "text": [
      "***** Random sample essays per cluster *****\n",
      "\n",
      "** Cluster 0: **\n",
      "\n",
      "Top terms #0 : ['believe', 'book', 'care', 'child', 'court', 'crime', 'death', 'drug', 'family', 'feel', 'find', 'friend', 'god', 'guard', 'hand', 'help', 'home', 'inmate', 'job', 'keep', 'last', 'later', 'law', 'learn', 'letter', 'little', 'live', 'lose', 'love', 'mind', 'money', 'nothing', 'offender', 'officer', 'problem', 'program', 'right', 'sentence', 'staff', 'state', 'system', 'talk', 'think', 'thought', 'three', 'turn', 'unit', 'walk', 'word', 'write']\n",
      "\n",
      "Dominant theme(s): ['Health Care', 'Family', 'Prison Culture/Community/Society', 'Personal/Intern Change/Coping']\n",
      "\n",
      "[('Personal/Intern Change/Coping', 2), ('Prison Culture/Community/Society', 2), ('Family', 2), ('Health Care', 2), ('Political and Intellectual Labor among IP', 1), ('Physical Conditions and Security', 1), ('Staff/prison Abuse of IP', 1), ('Judicial Misconduct and Legal Remediation', 1), ('Prison Industry/Prison as Business', 1), ('Autobiographical, Paths to Prison', 1)]\n",
      "\n",
      "Randomly selected essays: ['apw_12349659.txt', 'apw_12351811.txt', 'apw_12353312.txt', 'apw_12345418.txt', 'apw_12351353.txt', 'apw_12349997.txt', 'apw_12342826.txt', 'apw_12342734.txt', 'apw_12342742.txt', 'apw_12344698.txt']\n",
      "\n",
      "\n",
      "** Cluster 1: **\n",
      "\n",
      "Top terms #1 : ['american', 'black', 'california', 'child', 'community', 'correction', 'correctional', 'court', 'crime', 'criminal', 'death', 'department', 'drug', 'education', 'facility', 'fact', 'family', 'federal', 'government', 'group', 'help', 'human', 'incarcerate', 'incarceration', 'individual', 'inmate', 'issue', 'job', 'justice', 'law', 'offender', 'officer', 'order', 'parole', 'population', 'problem', 'program', 'public', 'punishment', 'rehabilitation', 'release', 'right', 'sentence', 'serve', 'society', 'staff', 'state', 'system', 'think', 'write']\n",
      "\n",
      "Dominant theme(s): ['Family', 'Personal/Intern Change/Coping', 'Prison Culture/Community/Society', 'Education, Re-entry, Other Programs']\n",
      "\n",
      "[('Prison Culture/Community/Society', 4), ('Education, Re-entry, Other Programs', 2), ('Personal/Intern Change/Coping', 2), ('Family', 2), ('Political and Intellectual Labor among IP', 1), ('Physical Conditions and Security', 1), ('Staff/prison Abuse of IP', 1), ('Social Alienation, Indifference, Hostility', 1), ('Judicial Misconduct and Legal Remediation', 1), ('Prison Industry/Prison as Business', 1), ('Autobiographical, Paths to Prison', 1), ('Health Care', 1)]\n",
      "\n",
      "Randomly selected essays: ['apw_12349544.txt', 'apw_12344417.txt', 'apw_12346911.txt', 'apw_12353282.txt', 'apw_12345603.txt', 'apw_12353412.txt', 'apw_12349315.txt', 'apw_12343193.txt', 'apw_12342918.txt', 'apw_12343408.txt']\n",
      "\n",
      "\n",
      "** Cluster 2: **\n",
      "\n",
      "Top terms #2 : ['america', 'american', 'behavior', 'black', 'cause', 'class', 'community', 'control', 'court', 'crime', 'criminal', 'death', 'education', 'experience', 'fact', 'force', 'form', 'government', 'group', 'however', 'human', 'incarceration', 'individual', 'inmate', 'justice', 'law', 'learn', 'male', 'mean', 'mind', 'order', 'parole', 'police', 'political', 'population', 'power', 'problem', 'process', 'program', 'right', 'sentence', 'sexual', 'social', 'society', 'state', 'system', 'term', 'think', 'violence', 'white']\n",
      "\n",
      "Dominant theme(s): ['Personal/Intern Change/Coping', 'Prison Culture/Community/Society', 'Judicial Misconduct and Legal Remediation', 'Staff/prison Abuse of IP']\n",
      "\n",
      "[('Prison Culture/Community/Society', 6), ('Personal/Intern Change/Coping', 3), ('Staff/prison Abuse of IP', 2), ('Judicial Misconduct and Legal Remediation', 2), ('Physical Conditions and Security', 1), ('Education, Re-entry, Other Programs', 1), ('Health Care', 1), ('Political and Intellectual Labor among IP', 1)]\n",
      "\n",
      "Randomly selected essays: ['apw_12344481.txt', 'apw_12345823.txt', 'apw_12344454.txt', 'apw_12347769.txt', 'apw_283.txt', 'apw_12344088.txt', 'apw_12344571.txt', 'apw_12346576.txt', 'apw_12344551.txt', 'apw_12343528.txt']\n",
      "\n",
      "\n",
      "** Cluster 3: **\n",
      "\n",
      "Top terms #3 : ['believe', 'black', 'care', 'child', 'correctional', 'court', 'crime', 'criminal', 'death', 'drug', 'family', 'feel', 'find', 'friend', 'god', 'help', 'home', 'hope', 'human', 'incarcerate', 'inmate', 'job', 'justice', 'keep', 'law', 'learn', 'live', 'lose', 'love', 'mean', 'mind', 'money', 'nothing', 'officer', 'parole', 'problem', 'program', 'reason', 'release', 'right', 'sentence', 'society', 'staff', 'state', 'system', 'think', 'thought', 'unit', 'word', 'write']\n",
      "\n",
      "Dominant theme(s): ['Health Care', 'Family', 'Prison Culture/Community/Society', 'Personal/Intern Change/Coping']\n",
      "\n",
      "[('Prison Culture/Community/Society', 3), ('Personal/Intern Change/Coping', 2), ('Family', 2), ('Health Care', 2), ('Political and Intellectual Labor among IP', 1), ('Physical Conditions and Security', 1), ('Staff/prison Abuse of IP', 1), ('Judicial Misconduct and Legal Remediation', 1), ('Prison Industry/Prison as Business', 1), ('Autobiographical, Paths to Prison', 1)]\n",
      "\n",
      "Randomly selected essays: ['apw_12342111.txt', 'apw_12348940.txt', 'apw_12348149.txt', 'apw_12352744.txt', 'apw_12343289.txt', 'apw_12351209.txt', 'apw_12345715.txt', 'apw_250.txt', 'apw_12352748.txt', 'apw_12347248.txt']\n",
      "\n",
      "\n",
      "** Cluster 4: **\n",
      "\n",
      "Top terms #4 : ['behind', 'black', 'door', 'eye', 'face', 'family', 'feel', 'felt', 'foot', 'friend', 'guard', 'hand', 'head', 'help', 'home', 'inmate', 'keep', 'last', 'left', 'line', 'little', 'live', 'lock', 'love', 'mind', 'mother', 'move', 'night', 'officer', 'open', 'outside', 'right', 'room', 'sentence', 'small', 'state', 'talk', 'think', 'thought', 'three', 'turn', 'unit', 'visit', 'wait', 'walk', 'wall', 'watch', 'word', 'write', 'yard']\n",
      "\n",
      "Dominant theme(s): ['Family', 'Personal/Intern Change/Coping']\n",
      "\n",
      "[('Family', 3), ('Personal/Intern Change/Coping', 2), ('Political and Intellectual Labor among IP', 1), ('Staff/prison Abuse of IP', 1)]\n",
      "\n",
      "Randomly selected essays: ['apw_12352505.txt', 'apw_12346618.txt', 'apw_12345861.txt', 'apw_12346314.txt', 'apw_181.txt', 'apw_12353598.txt', 'apw_12347192.txt', 'apw_12352610.txt', 'apw_12352562.txt', 'apw_12346959.txt']\n",
      "\n",
      "\n",
      "** Cluster 5: **\n",
      "\n",
      "Top terms #5 : ['attorney', 'california', 'child', 'convict', 'conviction', 'correction', 'cost', 'court', 'crime', 'criminal', 'death', 'department', 'evidence', 'facility', 'fact', 'federal', 'government', 'incarceration', 'inmate', 'issue', 'judge', 'justice', 'law', 'legal', 'offender', 'officer', 'official', 'order', 'parole', 'police', 'policy', 'process', 'program', 'provide', 'public', 'rate', 'release', 'report', 'right', 'rule', 'sentence', 'serve', 'staff', 'state', 'system', 'treatment', 'trial', 'unit', 'united', 'violation']\n",
      "\n",
      "Dominant theme(s): ['Prison Culture/Community/Society', 'Health Care', 'Judicial Misconduct and Legal Remediation', 'Staff/prison Abuse of IP']\n",
      "\n",
      "[('Staff/prison Abuse of IP', 3), ('Prison Culture/Community/Society', 3), ('Judicial Misconduct and Legal Remediation', 2), ('Health Care', 2), ('Personal/Intern Change/Coping', 1), ('Physical Conditions and Security', 1), ('Social Alienation, Indifference, Hostility', 1), ('Family', 1)]\n",
      "\n",
      "Randomly selected essays: ['apw_12344658.txt', 'apw_12344664.txt', 'apw_12349906.txt', 'apw_12347539.txt', 'apw_12348177.txt', 'apw_12345435.txt', 'apw_12351389.txt', 'apw_12346113.txt', 'apw_12354176.txt', 'apw_12347822.txt']\n",
      "\n",
      "\n",
      "** Cluster 6: **\n",
      "\n",
      "Top terms #6 : ['action', 'appear', 'believe', 'body', 'child', 'consciousness', 'crime', 'emotional', 'existence', 'experience', 'family', 'feel', 'find', 'great', 'help', 'human', 'inmate', 'keep', 'learn', 'little', 'live', 'lose', 'love', 'matter', 'mean', 'member', 'mind', 'move', 'order', 'part', 'personal', 'power', 'problem', 'process', 'program', 'reflection', 'release', 'right', 'sense', 'sentence', 'society', 'state', 'system', 'think', 'thought', 'truth', 'turn', 'understand', 'word', 'write']\n",
      "\n",
      "Dominant theme(s): ['Staff/prison Abuse of IP', 'Family', 'Prison Culture/Community/Society']\n",
      "\n",
      "[('Prison Culture/Community/Society', 3), ('Family', 3), ('Staff/prison Abuse of IP', 2), ('Political and Intellectual Labor among IP', 1)]\n",
      "\n",
      "Randomly selected essays: ['apw_12344997.txt', 'apw_12351421.txt', 'apw_12345989.txt', 'apw_12349225.txt', 'apw_12343040.txt', 'apw_12343637.txt', 'apw_12342408.txt', 'apw_12343141.txt', 'apw_12342618.txt', 'apw_12347386.txt']\n",
      "\n",
      "\n"
     ]
    }
   ],
   "source": [
    "from __future__ import print_function\n",
    "import random\n",
    "\n",
    "order_centroids = km.cluster_centers_.argsort()[:, ::-1] \n",
    "\n",
    "essays_per_cluster = {}\n",
    "for i in range(num_clusters):\n",
    "    essays_per_cluster[i] = []\n",
    "    #print(\"Cluster %d titles:\" % i, end='')\n",
    "    for title in output[output.cluster == i]['title'].values.tolist():\n",
    "        #print(' %s,' % title, end='')\n",
    "        essays_per_cluster[i].append(title)\n",
    "        \n",
    "print(\"***** Random sample essays per cluster *****\")\n",
    "print()\n",
    "\n",
    "terms_per_essays = {}\n",
    "themes_per_essays = {}\n",
    "for i in range(num_clusters):\n",
    "    ten = []\n",
    "    if len(essays_per_cluster[i]) < 10:\n",
    "        ten = essays_per_cluster[i]\n",
    "    else:\n",
    "        while len(ten) < 10:\n",
    "            essay = random.choice(essays_per_cluster[i])\n",
    "            if essay not in ten:\n",
    "                ten.append(essay)\n",
    "\n",
    "    print(\"** Cluster %d: **\" % i)\n",
    "    print()\n",
    "    context = [' '.join(tokens) for tokens in list(output[output.cluster == i].essay)]\n",
    "    \n",
    "    tfidf_vectorizer = TfidfVectorizer(max_features=50)\n",
    "    tfidf_vectorizer.fit(context)\n",
    "    \n",
    "    #terms_per_essays[i] = [term for term in tfidf_vectorizer.get_feature_names() if term not in english_stopwords + custom_stopwords]\n",
    "    terms_per_essays[i] = [term for term in tfidf_vectorizer.get_feature_names()]\n",
    "    \n",
    "    print(\"Top terms #{} : {}\".format(i, terms_per_essays[i]))\n",
    "    print()\n",
    "    \n",
    "    themes_per_essays[i] = set()\n",
    "    theme_term_count = {}\n",
    "    for term in terms_per_essays[i]:\n",
    "        for key, value in theme_index.items():\n",
    "            if term in value:\n",
    "                if key in theme_term_count:\n",
    "                    theme_term_count[key] += 1\n",
    "                else:\n",
    "                    theme_term_count[key] = 1\n",
    "                themes_per_essays[i].add(key)\n",
    "    \n",
    "    themes_per_essays[i] = [theme for theme, count in theme_term_count.items() if count > 1]\n",
    "    print(\"Dominant theme(s): {}\".format(themes_per_essays[i]))\n",
    "    print()\n",
    "    print(sorted(theme_term_count.items(), key=lambda x : x[1])[::-1])\n",
    "    \n",
    "    print()\n",
    "    print(\"Randomly selected essays:\", ten)\n",
    "    files = [i for i in os.listdir(src) if i in ten and path.isfile(path.join(src, i))]\n",
    "    for f in files:\n",
    "        shutil.copy(path.join(src, f), dst + str(i))\n",
    "    print()\n",
    "    print()\n"
   ]
  },
  {
   "cell_type": "markdown",
   "metadata": {},
   "source": [
    "# Running LDA on each cluster "
   ]
  },
  {
   "cell_type": "code",
   "execution_count": 40,
   "metadata": {},
   "outputs": [
    {
     "name": "stdout",
     "output_type": "stream",
     "text": [
      "************ Cluster # 0 ************\n",
      "Top terms: ['0.007*\"inmate\" ', ' 0.003*\"state\" ', ' 0.003*\"officer\" ', ' 0.003*\"write\" ', ' 0.003*\"family\" ', ' 0.002*\"right\" ', ' 0.002*\"think\" ', ' 0.002*\"help\" ', ' 0.002*\"sentence\" ', ' 0.002*\"love\" ', ' 0.002*\"god\" ', ' 0.002*\"system\" ', ' 0.002*\"friend\" ', ' 0.002*\"home\" ', ' 0.002*\"talk\" ', ' 0.002*\"child\" ', ' 0.002*\"crime\" ', ' 0.002*\"staff\" ', ' 0.002*\"thought\" ', ' 0.002*\"feel\"']\n",
      "\n",
      "\n",
      "Terms per cluster: {0: ['inmate', 'state', 'officer', 'write', 'family', 'right', 'think', 'help', 'sentence', 'love', 'god', 'system', 'friend', 'home', 'talk', 'child', 'crime', 'staff', 'thought', 'fee']}\n",
      "\n",
      "Terms/Scores: {'inmate': 0.007, 'state': 0.003, 'officer': 0.003, 'write': 0.003, 'family': 0.003, 'right': 0.002, 'think': 0.002, 'help': 0.002, 'sentence': 0.002, 'love': 0.002, 'god': 0.002, 'system': 0.002, 'friend': 0.002, 'home': 0.002, 'talk': 0.002, 'child': 0.002, 'crime': 0.002, 'staff': 0.002, 'thought': 0.002, 'fee': 0.002}\n",
      "\n",
      "Themes ranked strongest to weakest: [('Family', 0.005), ('Prison Culture/Community/Society', 0.004), ('Political and Intellectual Labor among IP', 0.003), ('Physical Conditions and Security', 0.002), ('Personal/Intern Change/Coping', 0.002), ('Staff/prison Abuse of IP', 0.002)]\n",
      "\n",
      "************ Cluster # 1 ************\n",
      "Top terms: ['0.007*\"state\" ', ' 0.006*\"inmate\" ', ' 0.005*\"system\" ', ' 0.004*\"crime\" ', ' 0.004*\"sentence\" ', ' 0.004*\"law\" ', ' 0.003*\"right\" ', ' 0.003*\"society\" ', ' 0.003*\"program\" ', ' 0.003*\"criminal\" ', ' 0.003*\"court\" ', ' 0.003*\"parole\" ', ' 0.002*\"justice\" ', ' 0.002*\"release\" ', ' 0.002*\"public\" ', ' 0.002*\"death\" ', ' 0.002*\"family\" ', ' 0.002*\"offender\" ', ' 0.002*\"write\" ', ' 0.002*\"incarcerate\"']\n",
      "\n",
      "\n",
      "Terms per cluster: {0: ['inmate', 'state', 'officer', 'write', 'family', 'right', 'think', 'help', 'sentence', 'love', 'god', 'system', 'friend', 'home', 'talk', 'child', 'crime', 'staff', 'thought', 'fee'], 1: ['state', 'inmate', 'system', 'crime', 'sentence', 'law', 'right', 'society', 'program', 'criminal', 'court', 'parole', 'justice', 'release', 'public', 'death', 'family', 'offender', 'write', 'incarcerat']}\n",
      "\n",
      "Terms/Scores: {'state': 0.007, 'inmate': 0.006, 'system': 0.005, 'crime': 0.004, 'sentence': 0.004, 'law': 0.004, 'right': 0.003, 'society': 0.003, 'program': 0.003, 'criminal': 0.003, 'court': 0.003, 'parole': 0.003, 'justice': 0.002, 'release': 0.002, 'public': 0.002, 'death': 0.002, 'family': 0.002, 'offender': 0.002, 'write': 0.002, 'incarcerat': 0.002}\n",
      "\n",
      "Themes ranked strongest to weakest: [('Judicial Misconduct and Legal Remediation', 0.004), ('Prison Culture/Community/Society', 0.004), ('Staff/prison Abuse of IP', 0.003), ('Political and Intellectual Labor among IP', 0.002), ('Family', 0.002), ('Health Care', 0.002), ('Social Alienation, Indifference, Hostility', 0.002)]\n",
      "\n",
      "************ Cluster # 2 ************\n",
      "Top terms: ['0.005*\"black\" ', ' 0.005*\"law\" ', ' 0.004*\"society\" ', ' 0.004*\"system\" ', ' 0.004*\"state\" ', ' 0.004*\"criminal\" ', ' 0.004*\"crime\" ', ' 0.003*\"social\" ', ' 0.003*\"right\" ', ' 0.003*\"program\" ', ' 0.003*\"american\" ', ' 0.002*\"inmate\" ', ' 0.002*\"behavior\" ', ' 0.002*\"human\" ', ' 0.002*\"problem\" ', ' 0.002*\"sentence\" ', ' 0.002*\"individual\" ', ' 0.002*\"justice\" ', ' 0.002*\"control\" ', ' 0.002*\"think\"']\n",
      "\n",
      "\n",
      "Terms per cluster: {0: ['inmate', 'state', 'officer', 'write', 'family', 'right', 'think', 'help', 'sentence', 'love', 'god', 'system', 'friend', 'home', 'talk', 'child', 'crime', 'staff', 'thought', 'fee'], 1: ['state', 'inmate', 'system', 'crime', 'sentence', 'law', 'right', 'society', 'program', 'criminal', 'court', 'parole', 'justice', 'release', 'public', 'death', 'family', 'offender', 'write', 'incarcerat'], 2: ['black', 'law', 'society', 'system', 'state', 'criminal', 'crime', 'social', 'right', 'program', 'american', 'inmate', 'behavior', 'human', 'problem', 'sentence', 'individual', 'justice', 'control', 'thin']}\n",
      "\n",
      "Terms/Scores: {'black': 0.005, 'law': 0.005, 'society': 0.004, 'system': 0.004, 'state': 0.004, 'criminal': 0.004, 'crime': 0.004, 'social': 0.003, 'right': 0.003, 'program': 0.003, 'american': 0.003, 'inmate': 0.002, 'behavior': 0.002, 'human': 0.002, 'problem': 0.002, 'sentence': 0.002, 'individual': 0.002, 'justice': 0.002, 'control': 0.002, 'thin': 0.002}\n",
      "\n",
      "Themes ranked strongest to weakest: [('Prison Culture/Community/Society', 0.006), ('Judicial Misconduct and Legal Remediation', 0.005), ('Staff/prison Abuse of IP', 0.003)]\n",
      "\n",
      "************ Cluster # 3 ************\n",
      "Top terms: ['0.006*\"inmate\" ', ' 0.005*\"state\" ', ' 0.004*\"system\" ', ' 0.004*\"write\" ', ' 0.003*\"help\" ', ' 0.003*\"family\" ', ' 0.003*\"right\" ', ' 0.003*\"love\" ', ' 0.003*\"society\" ', ' 0.003*\"officer\" ', ' 0.003*\"sentence\" ', ' 0.002*\"law\" ', ' 0.002*\"think\" ', ' 0.002*\"crime\" ', ' 0.002*\"feel\" ', ' 0.002*\"mind\" ', ' 0.002*\"learn\" ', ' 0.002*\"program\" ', ' 0.002*\"staff\" ', ' 0.002*\"release\"']\n",
      "\n",
      "\n",
      "Terms per cluster: {0: ['inmate', 'state', 'officer', 'write', 'family', 'right', 'think', 'help', 'sentence', 'love', 'god', 'system', 'friend', 'home', 'talk', 'child', 'crime', 'staff', 'thought', 'fee'], 1: ['state', 'inmate', 'system', 'crime', 'sentence', 'law', 'right', 'society', 'program', 'criminal', 'court', 'parole', 'justice', 'release', 'public', 'death', 'family', 'offender', 'write', 'incarcerat'], 2: ['black', 'law', 'society', 'system', 'state', 'criminal', 'crime', 'social', 'right', 'program', 'american', 'inmate', 'behavior', 'human', 'problem', 'sentence', 'individual', 'justice', 'control', 'thin'], 3: ['inmate', 'state', 'system', 'write', 'help', 'family', 'right', 'love', 'society', 'officer', 'sentence', 'law', 'think', 'crime', 'feel', 'mind', 'learn', 'program', 'staff', 'releas']}\n",
      "\n",
      "Terms/Scores: {'inmate': 0.006, 'state': 0.005, 'system': 0.004, 'write': 0.004, 'help': 0.003, 'family': 0.003, 'right': 0.003, 'love': 0.003, 'society': 0.003, 'officer': 0.003, 'sentence': 0.003, 'law': 0.002, 'think': 0.002, 'crime': 0.002, 'feel': 0.002, 'mind': 0.002, 'learn': 0.002, 'program': 0.002, 'staff': 0.002, 'releas': 0.002}\n",
      "\n",
      "Themes ranked strongest to weakest: [('Prison Culture/Community/Society', 0.004), ('Political and Intellectual Labor among IP', 0.004), ('Staff/prison Abuse of IP', 0.003), ('Family', 0.003), ('Physical Conditions and Security', 0.002), ('Judicial Misconduct and Legal Remediation', 0.002)]\n",
      "\n",
      "************ Cluster # 4 ************\n",
      "Top terms: ['0.003*\"guard\" ', ' 0.003*\"door\" ', ' 0.003*\"inmate\" ', ' 0.002*\"hand\" ', ' 0.002*\"head\" ', ' 0.002*\"think\" ', ' 0.002*\"room\" ', ' 0.002*\"right\" ', ' 0.002*\"face\" ', ' 0.002*\"state\" ', ' 0.002*\"home\" ', ' 0.002*\"night\" ', ' 0.002*\"walk\" ', ' 0.002*\"mother\" ', ' 0.002*\"little\" ', ' 0.002*\"thought\" ', ' 0.002*\"love\" ', ' 0.002*\"write\" ', ' 0.002*\"eye\" ', ' 0.002*\"yard\"']\n",
      "\n",
      "\n",
      "Terms per cluster: {0: ['inmate', 'state', 'officer', 'write', 'family', 'right', 'think', 'help', 'sentence', 'love', 'god', 'system', 'friend', 'home', 'talk', 'child', 'crime', 'staff', 'thought', 'fee'], 1: ['state', 'inmate', 'system', 'crime', 'sentence', 'law', 'right', 'society', 'program', 'criminal', 'court', 'parole', 'justice', 'release', 'public', 'death', 'family', 'offender', 'write', 'incarcerat'], 2: ['black', 'law', 'society', 'system', 'state', 'criminal', 'crime', 'social', 'right', 'program', 'american', 'inmate', 'behavior', 'human', 'problem', 'sentence', 'individual', 'justice', 'control', 'thin'], 3: ['inmate', 'state', 'system', 'write', 'help', 'family', 'right', 'love', 'society', 'officer', 'sentence', 'law', 'think', 'crime', 'feel', 'mind', 'learn', 'program', 'staff', 'releas'], 4: ['guard', 'door', 'inmate', 'hand', 'head', 'think', 'room', 'right', 'face', 'state', 'home', 'night', 'walk', 'mother', 'little', 'thought', 'love', 'write', 'eye', 'yar']}\n",
      "\n",
      "Terms/Scores: {'guard': 0.003, 'door': 0.003, 'inmate': 0.003, 'hand': 0.002, 'head': 0.002, 'think': 0.002, 'room': 0.002, 'right': 0.002, 'face': 0.002, 'state': 0.002, 'home': 0.002, 'night': 0.002, 'walk': 0.002, 'mother': 0.002, 'little': 0.002, 'thought': 0.002, 'love': 0.002, 'write': 0.002, 'eye': 0.002, 'yar': 0.002}\n",
      "\n",
      "Themes ranked strongest to weakest: [('Political and Intellectual Labor among IP', 0.002), ('Family', 0.002), ('Staff/prison Abuse of IP', 0.002)]\n",
      "\n",
      "************ Cluster # 5 ************\n"
     ]
    },
    {
     "name": "stdout",
     "output_type": "stream",
     "text": [
      "Top terms: ['0.009*\"state\" ', ' 0.005*\"law\" ', ' 0.005*\"court\" ', ' 0.004*\"sentence\" ', ' 0.003*\"crime\" ', ' 0.003*\"right\" ', ' 0.003*\"system\" ', ' 0.003*\"inmate\" ', ' 0.003*\"staff\" ', ' 0.003*\"offender\" ', ' 0.003*\"criminal\" ', ' 0.002*\"justice\" ', ' 0.002*\"parole\" ', ' 0.002*\"public\" ', ' 0.002*\"officer\" ', ' 0.002*\"issue\" ', ' 0.002*\"federal\" ', ' 0.002*\"death\" ', ' 0.002*\"judge\" ', ' 0.002*\"serve\"']\n",
      "\n",
      "\n",
      "Terms per cluster: {0: ['inmate', 'state', 'officer', 'write', 'family', 'right', 'think', 'help', 'sentence', 'love', 'god', 'system', 'friend', 'home', 'talk', 'child', 'crime', 'staff', 'thought', 'fee'], 1: ['state', 'inmate', 'system', 'crime', 'sentence', 'law', 'right', 'society', 'program', 'criminal', 'court', 'parole', 'justice', 'release', 'public', 'death', 'family', 'offender', 'write', 'incarcerat'], 2: ['black', 'law', 'society', 'system', 'state', 'criminal', 'crime', 'social', 'right', 'program', 'american', 'inmate', 'behavior', 'human', 'problem', 'sentence', 'individual', 'justice', 'control', 'thin'], 3: ['inmate', 'state', 'system', 'write', 'help', 'family', 'right', 'love', 'society', 'officer', 'sentence', 'law', 'think', 'crime', 'feel', 'mind', 'learn', 'program', 'staff', 'releas'], 4: ['guard', 'door', 'inmate', 'hand', 'head', 'think', 'room', 'right', 'face', 'state', 'home', 'night', 'walk', 'mother', 'little', 'thought', 'love', 'write', 'eye', 'yar'], 5: ['state', 'law', 'court', 'sentence', 'crime', 'right', 'system', 'inmate', 'staff', 'offender', 'criminal', 'justice', 'parole', 'public', 'officer', 'issue', 'federal', 'death', 'judge', 'serv']}\n",
      "\n",
      "Terms/Scores: {'state': 0.009, 'law': 0.005, 'court': 0.005, 'sentence': 0.004, 'crime': 0.003, 'right': 0.003, 'system': 0.003, 'inmate': 0.003, 'staff': 0.003, 'offender': 0.003, 'criminal': 0.003, 'justice': 0.002, 'parole': 0.002, 'public': 0.002, 'officer': 0.002, 'issue': 0.002, 'federal': 0.002, 'death': 0.002, 'judge': 0.002, 'serv': 0.002}\n",
      "\n",
      "Themes ranked strongest to weakest: [('Prison Culture/Community/Society', 0.006), ('Judicial Misconduct and Legal Remediation', 0.005), ('Physical Conditions and Security', 0.003), ('Staff/prison Abuse of IP', 0.003), ('Health Care', 0.002), ('Social Alienation, Indifference, Hostility', 0.002)]\n",
      "\n",
      "************ Cluster # 6 ************\n",
      "Top terms: ['0.004*\"think\" ', ' 0.004*\"experience\" ', ' 0.004*\"society\" ', ' 0.003*\"mind\" ', ' 0.003*\"system\" ', ' 0.003*\"state\" ', ' 0.003*\"inmate\" ', ' 0.003*\"body\" ', ' 0.003*\"write\" ', ' 0.002*\"help\" ', ' 0.002*\"learn\" ', ' 0.002*\"feel\" ', ' 0.002*\"consciousness\" ', ' 0.002*\"program\" ', ' 0.002*\"right\" ', ' 0.002*\"family\" ', ' 0.002*\"crime\" ', ' 0.002*\"understand\" ', ' 0.002*\"appear\" ', ' 0.002*\"word\"']\n",
      "\n",
      "\n",
      "Terms per cluster: {0: ['inmate', 'state', 'officer', 'write', 'family', 'right', 'think', 'help', 'sentence', 'love', 'god', 'system', 'friend', 'home', 'talk', 'child', 'crime', 'staff', 'thought', 'fee'], 1: ['state', 'inmate', 'system', 'crime', 'sentence', 'law', 'right', 'society', 'program', 'criminal', 'court', 'parole', 'justice', 'release', 'public', 'death', 'family', 'offender', 'write', 'incarcerat'], 2: ['black', 'law', 'society', 'system', 'state', 'criminal', 'crime', 'social', 'right', 'program', 'american', 'inmate', 'behavior', 'human', 'problem', 'sentence', 'individual', 'justice', 'control', 'thin'], 3: ['inmate', 'state', 'system', 'write', 'help', 'family', 'right', 'love', 'society', 'officer', 'sentence', 'law', 'think', 'crime', 'feel', 'mind', 'learn', 'program', 'staff', 'releas'], 4: ['guard', 'door', 'inmate', 'hand', 'head', 'think', 'room', 'right', 'face', 'state', 'home', 'night', 'walk', 'mother', 'little', 'thought', 'love', 'write', 'eye', 'yar'], 5: ['state', 'law', 'court', 'sentence', 'crime', 'right', 'system', 'inmate', 'staff', 'offender', 'criminal', 'justice', 'parole', 'public', 'officer', 'issue', 'federal', 'death', 'judge', 'serv'], 6: ['think', 'experience', 'society', 'mind', 'system', 'state', 'inmate', 'body', 'write', 'help', 'learn', 'feel', 'consciousness', 'program', 'right', 'family', 'crime', 'understand', 'appear', 'wor']}\n",
      "\n",
      "Terms/Scores: {'think': 0.004, 'experience': 0.004, 'society': 0.004, 'mind': 0.003, 'system': 0.003, 'state': 0.003, 'inmate': 0.003, 'body': 0.003, 'write': 0.003, 'help': 0.002, 'learn': 0.002, 'feel': 0.002, 'consciousness': 0.002, 'program': 0.002, 'right': 0.002, 'family': 0.002, 'crime': 0.002, 'understand': 0.002, 'appear': 0.002, 'wor': 0.002}\n",
      "\n",
      "Themes ranked strongest to weakest: [('Political and Intellectual Labor among IP', 0.003), ('Prison Culture/Community/Society', 0.002), ('Family', 0.002), ('Staff/prison Abuse of IP', 0.002)]\n",
      "\n"
     ]
    }
   ],
   "source": [
    "from gensim import corpora, models\n",
    "\n",
    "terms_per_cluster = {}\n",
    "themes_per_cluster = {}\n",
    "\n",
    "#Apply LDA for each cluster (and for each essay in cluster)\n",
    "for i in range(num_clusters):\n",
    "    print(\"************ Cluster # {} ************\".format(i))\n",
    "    essays_in_cluster = [tokens for tokens in list(output[output.cluster == i].essay)]\n",
    "    \n",
    "    dictionary = corpora.Dictionary(essays_in_cluster)\n",
    "    \n",
    "    cluster_corpus = [dictionary.doc2bow(essay) for essay in essays_in_cluster]\n",
    "    \n",
    "    lda = models.ldamodel.LdaModel(corpus=cluster_corpus, id2word=dictionary, num_topics=1, passes=10)\n",
    "    \n",
    "    term_score = {}\n",
    "    terms_per_cluster[i] = []\n",
    "    for idx, terms in lda.print_topics(i, 20):\n",
    "        #terms_per_cluster[i] = terms\n",
    "        \n",
    "        print('Top terms: {}'.format(terms.split('+')))\n",
    "        print()\n",
    "        print()\n",
    "        \n",
    "        for term_with_score in terms.split('+'):\n",
    "            term = term_with_score.split('*')[1][1:-2]\n",
    "            score = term_with_score.split('*')[0]\n",
    "            \n",
    "            #print(\"term is {} with score {}\".format(term, score))\n",
    "            \n",
    "            terms_per_cluster[i].append(term)\n",
    "            term_score[term] = float(score)\n",
    "    \n",
    "    print(\"Terms per cluster:\", terms_per_cluster)\n",
    "    print()\n",
    "    print(\"Terms/Scores:\", term_score)\n",
    "    print()\n",
    "    \n",
    "    themes_per_cluster[i] = {}\n",
    "    theme_term_score = {}\n",
    "    for term in terms_per_cluster[i]:\n",
    "        for theme, defining_terms in theme_index.items():\n",
    "            if term in defining_terms:\n",
    "                if theme in theme_term_score:\n",
    "                    theme_term_score[theme] += term_score[term]\n",
    "                else:\n",
    "                    theme_term_score[theme] = term_score[term]\n",
    "                \n",
    "    themes_per_cluster[i] = sorted(theme_term_score.items(), key = lambda x : x[1])[::-1]\n",
    "    print(\"Themes ranked strongest to weakest: {}\".format(themes_per_cluster[i]))\n",
    "    print()\n",
    "    \n",
    "    \n",
    "    "
   ]
  },
  {
   "cell_type": "markdown",
   "metadata": {},
   "source": [
    "# Save model/Load from pickle"
   ]
  },
  {
   "cell_type": "code",
   "execution_count": 20,
   "metadata": {},
   "outputs": [],
   "source": [
    "joblib.dump(km,'doc_cluster.pkl')\n",
    "\n",
    "#km = joblib.load('doc_cluster.pkl')\n",
    "clusters = km.labels_.tolist()"
   ]
  },
  {
   "cell_type": "markdown",
   "metadata": {},
   "source": [
    "# Visualize cluster (2D)"
   ]
  },
  {
   "cell_type": "code",
   "execution_count": 21,
   "metadata": {},
   "outputs": [],
   "source": [
    "#import random\n",
    "\n",
    "#%matplotlib inline\n",
    "#plt.figure\n",
    "\n",
    "#cluster_colors = []\n",
    "#for i in range(num_clusters):\n",
    "#    r = lambda: random.randint(0,255)\n",
    "#    cluster_colors.append('#%02X%02X%02X' % (r(),r(),r()))\n",
    "\n",
    "#color = [i for i in cluster_colors]\n",
    "#plt.scatter(datapoint[:, 0], datapoint[:, 1])\n",
    "#centroids = kmeans_model.cluster_centers_\n",
    "#centroidpoint = pca.transform(centroids)\n",
    "#plt.scatter(centroidpoint[:, 0], centroidpoint[:, 1], marker=\"^\", s=150, c=\"#000000\")\n",
    "#plt.show()"
   ]
  },
  {
   "cell_type": "code",
   "execution_count": null,
   "metadata": {},
   "outputs": [],
   "source": []
  }
 ],
 "metadata": {
  "kernelspec": {
   "display_name": "Python 3",
   "language": "python",
   "name": "python3"
  },
  "language_info": {
   "codemirror_mode": {
    "name": "ipython",
    "version": 3
   },
   "file_extension": ".py",
   "mimetype": "text/x-python",
   "name": "python",
   "nbconvert_exporter": "python",
   "pygments_lexer": "ipython3",
   "version": "3.7.4"
  }
 },
 "nbformat": 4,
 "nbformat_minor": 2
}
